{
 "cells": [
  {
   "cell_type": "code",
   "execution_count": 11,
   "id": "c44951dc-546e-48f7-838b-3d967956caa1",
   "metadata": {},
   "outputs": [
    {
     "data": {
      "text/plain": [
       "\"11000111\""
      ]
     },
     "execution_count": 11,
     "metadata": {},
     "output_type": "execute_result"
    }
   ],
   "source": [
    "format!(\"{:b}\", 199)"
   ]
  },
  {
   "cell_type": "code",
   "execution_count": null,
   "id": "a5ce1daf-5a74-4eb9-a122-4919aadf0448",
   "metadata": {},
   "outputs": [],
   "source": []
  }
 ],
 "metadata": {
  "kernelspec": {
   "display_name": "Rust",
   "language": "rust",
   "name": "rust"
  },
  "language_info": {
   "codemirror_mode": "rust",
   "file_extension": ".rs",
   "mimetype": "text/rust",
   "name": "Rust",
   "pygment_lexer": "rust",
   "version": ""
  }
 },
 "nbformat": 4,
 "nbformat_minor": 5
}
