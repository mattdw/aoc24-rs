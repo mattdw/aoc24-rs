{
 "cells": [
  {
   "cell_type": "code",
   "execution_count": 7,
   "id": "c44951dc-546e-48f7-838b-3d967956caa1",
   "metadata": {},
   "outputs": [
    {
     "data": {
      "text/plain": [
       "[[1, 2, 3], [2, 3, 4], [3, 4, 5], [4, 5, 6], [5, 6, 7]]"
      ]
     },
     "execution_count": 7,
     "metadata": {},
     "output_type": "execute_result"
    }
   ],
   "source": [
    "&[1,2,3,4,5,6,7].windows(3).collect::<Vec<_>>()"
   ]
  },
  {
   "cell_type": "code",
   "execution_count": null,
   "id": "a5ce1daf-5a74-4eb9-a122-4919aadf0448",
   "metadata": {},
   "outputs": [],
   "source": []
  }
 ],
 "metadata": {
  "kernelspec": {
   "display_name": "Rust",
   "language": "rust",
   "name": "rust"
  },
  "language_info": {
   "codemirror_mode": "rust",
   "file_extension": ".rs",
   "mimetype": "text/rust",
   "name": "Rust",
   "pygment_lexer": "rust",
   "version": ""
  }
 },
 "nbformat": 4,
 "nbformat_minor": 5
}
